{
 "cells": [
  {
   "cell_type": "markdown",
   "id": "d3bbcf94",
   "metadata": {},
   "source": [
    "* Write a Python program that asks the user to enter their age and then prints \"You are a minor\" if their age is less than 18, \"You are an adult\" if their age is greater than or equal to 18 and less than 65, and \"You are a senior\" if their age is 65 or greater"
   ]
  },
  {
   "cell_type": "code",
   "execution_count": 1,
   "id": "2a39e8b9",
   "metadata": {},
   "outputs": [
    {
     "name": "stdout",
     "output_type": "stream",
     "text": [
      "Enter your age: 75\n",
      "You are a senior\n"
     ]
    }
   ],
   "source": [
    "age = int(input(\"Enter your age: \"))\n",
    "\n",
    "if age < 18:\n",
    "    print(\"You are a minor\")\n",
    "elif age >= 18 and age < 65:\n",
    "    print(\"You are an adult\")\n",
    "else:\n",
    "    print(\"You are a senior\")"
   ]
  },
  {
   "cell_type": "markdown",
   "id": "c8ef472a",
   "metadata": {},
   "source": [
    "* Write a Python function that takes in a list of numbers and returns the sum of the squares of all the numbers in the list."
   ]
  },
  {
   "cell_type": "code",
   "execution_count": 3,
   "id": "35fef4e8",
   "metadata": {},
   "outputs": [
    {
     "name": "stdout",
     "output_type": "stream",
     "text": [
      "55\n"
     ]
    }
   ],
   "source": [
    "def sum_of_squares(numbers):\n",
    "    sum = 0\n",
    "    for num in numbers:\n",
    "        sum += num**2\n",
    "    return sum\n",
    "numbers = [1, 2, 3, 4, 5]\n",
    "result = sum_of_squares(numbers)\n",
    "print(result)"
   ]
  },
  {
   "cell_type": "code",
   "execution_count": null,
   "id": "c137e36f",
   "metadata": {},
   "outputs": [],
   "source": []
  }
 ],
 "metadata": {
  "kernelspec": {
   "display_name": "Python 3 (ipykernel)",
   "language": "python",
   "name": "python3"
  },
  "language_info": {
   "codemirror_mode": {
    "name": "ipython",
    "version": 3
   },
   "file_extension": ".py",
   "mimetype": "text/x-python",
   "name": "python",
   "nbconvert_exporter": "python",
   "pygments_lexer": "ipython3",
   "version": "3.9.7"
  }
 },
 "nbformat": 4,
 "nbformat_minor": 5
}
